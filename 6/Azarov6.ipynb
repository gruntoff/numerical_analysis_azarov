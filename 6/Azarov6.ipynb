{
 "cells": [
  {
   "cell_type": "code",
   "execution_count": 1,
   "metadata": {},
   "outputs": [
    {
     "name": "stdout",
     "output_type": "stream",
     "text": [
      "+-----------+-----+-------------+-------------+\n",
      "| Iteration |  X  |      Y      |      Z      |\n",
      "+-----------+-----+-------------+-------------+\n",
      "|     0     | 0.0 | 0.500000000 | 1.000000000 |\n",
      "|     1     | 0.1 | 0.536683796 | 1.196458558 |\n",
      "|     2     | 0.2 | 0.590484818 | 1.430185165 |\n",
      "|     3     | 0.3 | 0.663974226 | 1.714204352 |\n",
      "|     4     | 0.4 | 0.760348185 | 2.066731068 |\n",
      "|     5     | 0.5 | 0.882184969 | 2.513257392 |\n",
      "|     6     | 0.6 | 1.030710973 | 3.088615980 |\n",
      "|     7     | 0.7 | 1.206211532 | 3.839074168 |\n",
      "|     8     | 0.8 | 1.408711534 | 4.824785908 |\n",
      "|     9     | 0.9 | 1.638211534 | 6.122688782 |\n",
      "|     10    | 1.0 | 1.894711534 | 7.829760002 |\n",
      "+-----------+-----+-------------+-------------+\n"
     ]
    }
   ],
   "source": [
    "import numpy as np\n",
    "import math as m\n",
    "from prettytable import PrettyTable\n",
    "\n",
    "k = 4.5\n",
    "n = 1.4\n",
    "\n",
    "alfa = 2 + 0.5*n\n",
    "beta = 1 + 0.5*k\n",
    "\n",
    "y = 0.5\n",
    "z = 1\n",
    "x = 0\n",
    "\n",
    "h = 0.1\n",
    "\n",
    "table = PrettyTable()\n",
    "table.field_names = [\"Iteration\", \"X\", \"Y\", \"Z\"]\n",
    "\n",
    "def f1(x, y, z):\n",
    "    return m.exp(-(y**2+z**2)) + alfa*x\n",
    "    \n",
    "def f2(y, z):\n",
    "    return beta*y**2 + z\n",
    "\n",
    "for i in range(0,11):\n",
    "    table.add_row([format(i, 'd'), format(x, '.1f'), format(y, '.9f'), format(z, '.9f')])\n",
    "    \n",
    "    k1 = h * f1(x, y, z)\n",
    "    l1 = h * f2(y, z)\n",
    "    \n",
    "    k2 = h * f1(x+h/2, y+k1/2, z+l1/2)\n",
    "    l2 = h * f2(y+k1/2, z+l1/2)\n",
    "    \n",
    "    k3 = h * f1(x+h/2, y+k2/2, z+l2/2)\n",
    "    l3 = h * f2(y+k2/2, z+l2/2)\n",
    "    \n",
    "    k4 = h * f1(x+h, y+k3, z+l3)\n",
    "    l4 = h * f2(y+k3, z+l3)\n",
    "    \n",
    "    y = y +(k1 + 2*k2 + 2*k3 + k4)/6\n",
    "    z = z +(l1 + 2*l2 + 2*l3 + l4)/6\n",
    "    x = x + h\n",
    "    \n",
    "print(table)\n",
    "    "
   ]
  }
 ],
 "metadata": {
  "kernelspec": {
   "display_name": "Python 3",
   "language": "python",
   "name": "python3"
  },
  "language_info": {
   "codemirror_mode": {
    "name": "ipython",
    "version": 3
   },
   "file_extension": ".py",
   "mimetype": "text/x-python",
   "name": "python",
   "nbconvert_exporter": "python",
   "pygments_lexer": "ipython3",
   "version": "3.6.5"
  }
 },
 "nbformat": 4,
 "nbformat_minor": 2
}
