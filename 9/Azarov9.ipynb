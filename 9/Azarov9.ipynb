{
 "cells": [
  {
   "cell_type": "code",
   "execution_count": 4,
   "metadata": {},
   "outputs": [],
   "source": [
    "import numpy as np\n",
    "from tabulate import tabulate\n",
    "np.set_printoptions(precision=4)\n",
    "\n",
    "def u(n, m):\n",
    "    h = 0.1\n",
    "    tau = 0.005\n",
    "    x = lambda m: m * h\n",
    "    t = lambda n: n * tau\n",
    "    if (m == 0):\n",
    "        return t(n)\n",
    "    if (m == 10):\n",
    "        ########### YOUR VALUES HERE ############\n",
    "        return t(n) * np.exp(-2.25)\n",
    "        ########### YOUR VALUES HERE ############\n",
    "    if (n == 0):\n",
    "        return 0\n",
    "    ########### YOUR VALUES HERE ############\n",
    "    return 0.5 * (u(n - 1, m - 1) + u(n - 1, m + 1)) + 0.005 * (-5.0625 * t(n - 1) + 1) * np.exp(-1.28 * x(m))\n",
    "    ########### YOUR VALUES HERE ############\n",
    "\n",
    "\n",
    "def explicit_schema():\n",
    "    table = []\n",
    "    for n in range(0, 21):\n",
    "        row = [n]\n",
    "        for m in range(0, 11):\n",
    "            row.append(u(n, m))\n",
    "        table.append(row)\n",
    "    return table\n",
    "\n",
    "def headers():\n",
    "    hdrs = []\n",
    "    for n in range(0, 11):\n",
    "        hdrs.append(f'un{n}')\n",
    "    return hdrs"
   ]
  },
  {
   "cell_type": "code",
   "execution_count": 12,
   "metadata": {},
   "outputs": [
    {
     "name": "stdout",
     "output_type": "stream",
     "text": [
      "       un0     un1     un2     un3     un4     un5     un6     un7     un8     un9    un10\n",
      "--  ------  ------  ------  ------  ------  ------  ------  ------  ------  ------  ------\n",
      " 0  0.0000  0.0000  0.0000  0.0000  0.0000  0.0000  0.0000  0.0000  0.0000  0.0000  0.0000\n",
      " 1  0.0050  0.0044  0.0039  0.0034  0.0030  0.0026  0.0023  0.0020  0.0018  0.0016  0.0010\n",
      " 2  0.0100  0.0087  0.0077  0.0068  0.0059  0.0052  0.0046  0.0040  0.0036  0.0029  0.0020\n",
      " 3  0.0150  0.0130  0.0114  0.0100  0.0088  0.0078  0.0068  0.0060  0.0052  0.0043  0.0030\n",
      " 4  0.0200  0.0173  0.0151  0.0133  0.0117  0.0103  0.0090  0.0079  0.0068  0.0056  0.0040\n",
      " 5  0.0250  0.0215  0.0188  0.0165  0.0145  0.0127  0.0112  0.0098  0.0084  0.0068  0.0050\n",
      " 6  0.0300  0.0257  0.0224  0.0196  0.0172  0.0151  0.0133  0.0115  0.0099  0.0081  0.0061\n",
      " 7  0.0350  0.0299  0.0259  0.0227  0.0199  0.0175  0.0153  0.0133  0.0113  0.0093  0.0071\n",
      " 8  0.0400  0.0341  0.0295  0.0257  0.0225  0.0198  0.0173  0.0150  0.0128  0.0105  0.0081\n",
      " 9  0.0450  0.0382  0.0330  0.0287  0.0251  0.0220  0.0192  0.0167  0.0142  0.0117  0.0091\n",
      "10  0.0500  0.0424  0.0365  0.0317  0.0277  0.0242  0.0211  0.0183  0.0156  0.0129  0.0101\n",
      "11  0.0550  0.0465  0.0399  0.0346  0.0302  0.0264  0.0230  0.0199  0.0169  0.0140  0.0111\n",
      "12  0.0600  0.0506  0.0434  0.0375  0.0327  0.0285  0.0248  0.0214  0.0182  0.0151  0.0121\n",
      "13  0.0650  0.0547  0.0468  0.0404  0.0351  0.0306  0.0266  0.0229  0.0195  0.0163  0.0131\n",
      "14  0.0700  0.0588  0.0502  0.0432  0.0375  0.0326  0.0283  0.0244  0.0208  0.0174  0.0141\n",
      "15  0.0750  0.0629  0.0535  0.0460  0.0398  0.0346  0.0300  0.0259  0.0221  0.0185  0.0151\n",
      "16  0.0800  0.0670  0.0569  0.0488  0.0422  0.0366  0.0317  0.0273  0.0233  0.0196  0.0162\n",
      "17  0.0850  0.0711  0.0602  0.0515  0.0445  0.0385  0.0333  0.0287  0.0245  0.0207  0.0172\n",
      "18  0.0900  0.0751  0.0635  0.0543  0.0467  0.0404  0.0349  0.0301  0.0257  0.0217  0.0182\n",
      "19  0.0950  0.0791  0.0668  0.0570  0.0490  0.0423  0.0365  0.0314  0.0269  0.0228  0.0192\n",
      "20  0.1000  0.0832  0.0701  0.0596  0.0512  0.0441  0.0380  0.0327  0.0280  0.0239  0.0202\n"
     ]
    }
   ],
   "source": [
    "print(tabulate(explicit_schema(), floatfmt=\".4f\", headers=headers()))"
   ]
  },
  {
   "cell_type": "code",
   "execution_count": 35,
   "metadata": {},
   "outputs": [],
   "source": [
    "def implicit_schema():\n",
    "    h = 0.1\n",
    "    tau = 0.05\n",
    "    x = lambda m: m * h\n",
    "    t = lambda n: n * tau\n",
    "    u = [[0] * 11]\n",
    "    \n",
    "    for n in range(1, 3):\n",
    "        a = 5\n",
    "        b = -11\n",
    "        c = 5\n",
    "        d = [0] * 9\n",
    "        ########### YOUR VALUES HERE ############\n",
    "        d = [-tau * (5.0625 * t(n) + 1) * np.exp(-1.28 * x(i)) - u[n - 1][i] for i,val in enumerate(d)]\n",
    "        ########### YOUR VALUES HERE ############\n",
    "        alpha_01 = 1\n",
    "        beta_01 = 0\n",
    "        gamma_01 = t(n)\n",
    "        alpha_02 = 0\n",
    "        beta_02 = 1\n",
    "        ########### YOUR VALUES HERE ############\n",
    "        gamma_02 = t(n) * np.exp(-2.25);\n",
    "        ########### YOUR VALUES HERE ############\n",
    "        X = [0] * 10\n",
    "\n",
    "        for i, val in enumerate(X):\n",
    "            X[i] = -beta_01 / alpha_01 if (i == 0) else -a / (b + c * X[i - 1])\n",
    "\n",
    "        Z = [0] * 10\n",
    "\n",
    "        for i, val in enumerate(Z):\n",
    "            Z[i] = gamma_01 / alpha_01 if (i == 0) else (d[i - 1] - c * Z[i - 1]) / (b + c * X[i - 1])\n",
    "\n",
    "        y = [0] * 11\n",
    "\n",
    "        for i in range(10, -1, -1):\n",
    "            y[i] = (gamma_02 - alpha_02 * Z[i - 1]) / (beta_02 + alpha_02 * X[i - 1]) if (i == 10) else X[i] * y[i + 1] + Z[i]\n",
    "\n",
    "        u.append(y)\n",
    "        \n",
    "    return [[i] + val for i, val in enumerate(u)]"
   ]
  },
  {
   "cell_type": "code",
   "execution_count": 36,
   "metadata": {},
   "outputs": [
    {
     "name": "stdout",
     "output_type": "stream",
     "text": [
      "       un0     un1     un2     un3     un4     un5     un6     un7     un8     un9    un10\n",
      "--  ------  ------  ------  ------  ------  ------  ------  ------  ------  ------  ------\n",
      " 0  0.0000  0.0000  0.0000  0.0000  0.0000  0.0000  0.0000  0.0000  0.0000  0.0000  0.0000\n",
      " 1  0.0500  0.0504  0.0483  0.0449  0.0407  0.0362  0.0314  0.0262  0.0205  0.0138  0.0053\n",
      " 2  0.1000  0.1026  0.1007  0.0957  0.0884  0.0795  0.0694  0.0580  0.0450  0.0296  0.0105\n"
     ]
    }
   ],
   "source": [
    "print(tabulate(explicit_schema(), floatfmt=\".4f\", headers=headers()))"
   ]
  }
 ],
 "metadata": {
  "kernelspec": {
   "display_name": "Python 3",
   "language": "python",
   "name": "python3"
  },
  "language_info": {
   "codemirror_mode": {
    "name": "ipython",
    "version": 3
   },
   "file_extension": ".py",
   "mimetype": "text/x-python",
   "name": "python",
   "nbconvert_exporter": "python",
   "pygments_lexer": "ipython3",
   "version": "3.7.9"
  }
 },
 "nbformat": 4,
 "nbformat_minor": 2
}
