{
 "cells": [
  {
   "cell_type": "code",
   "execution_count": 4,
   "metadata": {},
   "outputs": [
    {
     "name": "stdout",
     "output_type": "stream",
     "text": [
      "f(10) = -934.000000\n",
      "f(11) = 555.300000\n",
      "[a; b] = [10; 11]\n",
      "\n",
      "phi'(10) = 1 + c * 1103.600000\n",
      "phi'(11) = 1 + c * 1910.200000 \n",
      "\n",
      "c = 0.0005\n",
      "phi(x) = x - 0.0005 * (x^4 - 6.8x^3 - 44.5x^2 + 33.6x - 20) \n",
      "\n",
      "x1 = phi(x0) = 10.64506; m = 0.14506\n",
      "x2 = phi(x1) = 10.67844; m = 0.03339\n",
      "x3 = phi(x2) = 10.68489; m = 0.00645\n",
      "x4 = phi(x3) = 10.68609; m = 0.00119\n",
      "x5 = phi(x4) = 10.68630; m = 0.00022\n",
      "\n",
      "x = 10.68630\n"
     ]
    }
   ],
   "source": [
    "import numpy as np\n",
    "\n",
    "def solve(x):\n",
    "    return x**4 - 6.8*x**3 - 44.5*x**2 + 33.6*x - 20\n",
    "\n",
    "def solveDer(x):\n",
    "    return 4*x**3 - 20.4*x**2 - 89*x + 33.6\n",
    "\n",
    "a=0\n",
    "b=1\n",
    "\n",
    "while(True):\n",
    "    f1 = solve(a)\n",
    "    f2 = solve(b)\n",
    "    \n",
    "    if (f1*f2<0):\n",
    "        break\n",
    "    else:\n",
    "        a += 1\n",
    "        b += 1\n",
    "print('f(%d) = %f' % (a, f1))\n",
    "print('f(%d) = %f' % (b, f2))\n",
    "print('[a; b] = [%d; %d]' % (a, b))\n",
    "\n",
    "print('\\nphi\\'(%d) = 1 + c * %f' % (a, solveDer(a)))\n",
    "print('phi\\'(%d) = 1 + c * %f' % (b, solveDer(b)), '\\n')\n",
    "\n",
    "print('c = 0.0005')\n",
    "print('phi(x) = x - 0.0005 * (x^4 - 6.8x^3 - 44.5x^2 + 33.6x - 20) \\n')\n",
    "\n",
    "def solvefx(x):\n",
    "    return x - 0.0005*(x**4 - 6.8*x**3 - 44.5*x**2 + 33.6*x - 20)\n",
    "\n",
    "prevX = 0 \n",
    "currX = (a+b)/2;\n",
    "i = 0\n",
    "\n",
    "while(abs(currX-solvefx(currX)) > 0.0001):\n",
    "    prevX = currX\n",
    "    currX = solvefx(prevX)\n",
    "    print('x%d = phi(x%d) = %.5f; m = %.5f' % (i+1, i, currX, abs(prevX-currX)))\n",
    "    i += 1\n",
    "\n",
    "print('\\nx = %.5f' % (currX))"
   ]
  }
 ],
 "metadata": {
  "kernelspec": {
   "display_name": "Python 3",
   "language": "python",
   "name": "python3"
  },
  "language_info": {
   "codemirror_mode": {
    "name": "ipython",
    "version": 3
   },
   "file_extension": ".py",
   "mimetype": "text/x-python",
   "name": "python",
   "nbconvert_exporter": "python",
   "pygments_lexer": "ipython3",
   "version": "3.7.9"
  }
 },
 "nbformat": 4,
 "nbformat_minor": 2
}
