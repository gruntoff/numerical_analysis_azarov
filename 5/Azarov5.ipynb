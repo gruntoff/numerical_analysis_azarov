{
 "cells": [
  {
   "cell_type": "code",
   "execution_count": null,
   "metadata": {},
   "outputs": [],
   "source": [
    "import numpy as np\n",
    "import math as m\n",
    "from prettytable import PrettyTable\n",
    "\n",
    "#input\n",
    "n = -6.3\n",
    "k = 2.5\n",
    "\n",
    "alfa = 1 + 0.1*k\n",
    "beta = abs(1 - 0.2*n)\n",
    "\n",
    "accuracy = 10**-3\n",
    "\n",
    "\n",
    "def f(x, y):\n",
    "    return alfa / (x**2 + y**2 + beta)\n",
    "\n",
    "def y(y0, h, f):\n",
    "    return y0 + h * f\n",
    "\n",
    "def checkY(y1, y2):\n",
    "    return round(abs(y1-y2), 4) > accuracy\n",
    "\n",
    "def cauchy():\n",
    "    \n",
    "    h = 0.1\n",
    "    xi = 0\n",
    "    yi = 1\n",
    "    i = 1\n",
    "    \n",
    "    table = PrettyTable()\n",
    "    table.field_names = [\"Iteration\", \"X\", \"Y\", \"Y'\"]\n",
    "\n",
    "    \n",
    "    while(xi<=1):\n",
    "    \n",
    "        y1 = y(yi, h, f(xi, yi))\n",
    "        y1_ = y(yi, h/2, f(xi, yi))    \n",
    "        y2_ = y(y1_, h/2, f(xi+h/2, y1_))\n",
    "\n",
    "        if (checkY(y1, y2_)):\n",
    "            y1 = y(yi, h/2, f(xi, yi))\n",
    "            y1_ = y(yi, h/4, f(xi, yi))    \n",
    "            y2_ = y(y1_, h/4, f(xi+h/4, y1_))\n",
    "            xi = xi + h/2\n",
    "        else:\n",
    "            xi = xi + h\n",
    "\n",
    "        yi = y1\n",
    "        if (xi<=1):\n",
    "#             print(\"%d. x = %.2f, y = %.5f, y' = %.5f\" % (i, xi, yi, y2_))\n",
    "            table.add_row([format(i, 'd'), format(xi, '.2f'), format(yi, '.5f'), format(y2_, '.5f')])\n",
    "            \n",
    "        i += 1\n",
    "    \n",
    "    print(table)  "
   ]
  },
  {
   "cell_type": "code",
   "execution_count": 5,
   "metadata": {},
   "outputs": [
    {
     "name": "stdout",
     "output_type": "stream",
     "text": [
      "+-----------+------+---------+---------+\n",
      "| Iteration |  X   |    Y    |    Y'   |\n",
      "+-----------+------+---------+---------+\n",
      "|     1     | 0.10 | 1.03834 | 1.03810 |\n",
      "|     2     | 0.20 | 1.07568 | 1.07539 |\n",
      "|     3     | 0.30 | 1.11184 | 1.11152 |\n",
      "|     4     | 0.40 | 1.14669 | 1.14635 |\n",
      "|     5     | 0.50 | 1.18016 | 1.17980 |\n",
      "|     6     | 0.60 | 1.21219 | 1.21182 |\n",
      "|     7     | 0.70 | 1.24275 | 1.24239 |\n",
      "|     8     | 0.80 | 1.27186 | 1.27150 |\n",
      "|     9     | 0.90 | 1.29953 | 1.29918 |\n",
      "|     10    | 1.00 | 1.32580 | 1.32546 |\n",
      "+-----------+------+---------+---------+\n"
     ]
    }
   ],
   "source": [
    "cauchy()"
   ]
  }
 ],
 "metadata": {
  "kernelspec": {
   "display_name": "Python 3",
   "language": "python",
   "name": "python3"
  },
  "language_info": {
   "codemirror_mode": {
    "name": "ipython",
    "version": 3
   },
   "file_extension": ".py",
   "mimetype": "text/x-python",
   "name": "python",
   "nbconvert_exporter": "python",
   "pygments_lexer": "ipython3",
   "version": "3.7.9"
  }
 },
 "nbformat": 4,
 "nbformat_minor": 2
}
